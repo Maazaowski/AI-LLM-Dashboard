{
 "cells": [
  {
   "cell_type": "code",
   "execution_count": 1,
   "id": "157c391e",
   "metadata": {},
   "outputs": [],
   "source": [
    "# Install the necessary dependencies\n",
    "!pip install transformers datasets tqdm tk"
   ]
  },
  {
   "cell_type": "code",
   "execution_count": 2,
   "id": "9f0e169e",
   "metadata": {},
   "outputs": [],
   "source": [
    "# Import necessary libraries\n",
    "import tkinter as tk\n",
    "from tkinter import scrolledtext\n",
    "import threading\n",
    "import time\n",
    "from transformers import Trainer, TrainingArguments, AutoModelForSequenceClassification, AutoTokenizer\n",
    "from datasets import load_dataset\n",
    "import torch\n"
   ]
  },
  {
   "cell_type": "code",
   "execution_count": 3,
   "id": "d427955a",
   "metadata": {},
   "outputs": [],
   "source": [
    "# Define the TrainingProgressWindow UI\n",
    "class TrainingProgressWindow:\n",
    "    def __init__(self, title=\"Training Progress\"):\n",
    "        self.window = tk.Tk()\n",
    "        self.window.title(title)\n",
    "        \n",
    "        # Create a ScrolledText widget to show logs\n",
    "        self.log_box = scrolledtext.ScrolledText(self.window, width=80, height=20, wrap=tk.WORD)\n",
    "        self.log_box.grid(row=0, column=0, padx=10, pady=10)\n",
    "        \n",
    "        # Create a Progress Bar widget\n",
    "        self.progress = tk.DoubleVar()\n",
    "        self.progress_bar = tk.ttk.Progressbar(self.window, variable=self.progress, maximum=100, length=300)\n",
    "        self.progress_bar.grid(row=1, column=0, padx=10, pady=10)\n",
    "        \n",
    "        # Start the Tkinter event loop in a separate thread\n",
    "        threading.Thread(target=self._start_gui, daemon=True).start()\n",
    "\n",
    "    def _start_gui(self):\n",
    "        self.window.mainloop()\n",
    "\n",
    "    def update_log(self, message):\n",
    "        self.log_box.insert(tk.END, message + \"\\n\")\n",
    "        self.log_box.yview(tk.END)\n",
    "\n",
    "    def update_progress(self, progress_value):\n",
    "        self.progress.set(progress_value)\n",
    "        self.window.update_idletasks()\n",
    "\n",
    "    def close(self):\n",
    "        self.window.quit()\n",
    "        self.window.destroy()\n"
   ]
  },
  {
   "cell_type": "code",
   "execution_count": 4,
   "id": "0fbc15bd",
   "metadata": {},
   "outputs": [],
   "source": [
    "# Load dataset and tokenizer for simulation\n",
    "dataset = load_dataset('imdb')  # Example dataset\n",
    "tokenizer = AutoTokenizer.from_pretrained('bert-base-uncased')\n",
    "\n",
    "# Preprocess dataset\n",
    "def tokenize_function(examples):\n",
    "    return tokenizer(examples['text'], padding=\"max_length\", truncation=True)\n",
    "train_data = dataset['train'].map(tokenize_function, batched=True)\n",
    "val_data = dataset['test'].map(tokenize_function, batched=True)\n",
    "\n",
    "# Define model\n",
    "model = AutoModelForSequenceClassification.from_pretrained('bert-base-uncased', num_labels=2)\n",
    "\n",
    "# Training Arguments\n",
    "training_args = TrainingArguments(\n",
    "    output_dir='./results',\n",
    "    num_train_epochs=3,\n",
    "    per_device_train_batch_size=8,\n",
    "    per_device_eval_batch_size=8,\n",
    "    evaluation_strategy='epoch',\n",
    "    logging_dir='./logs',\n",
    "    logging_steps=10,\n",
    "    load_best_model_at_end=True\n",
    ")\n"
   ]
  },
  {
   "cell_type": "code",
   "execution_count": 5,
   "id": "399b1365",
   "metadata": {},
   "outputs": [],
   "source": [
    "# Initialize the progress window\n",
    "progress_window = TrainingProgressWindow()\n",
    "\n",
    "# Simulate training loop with progress and logging updates\n",
    "def simulated_training():\n",
    "    total_steps = 100  # total steps for training simulation\n",
    "    for epoch in range(3):\n",
    "        progress_window.update_log(f\"Epoch {epoch+1} starting...\")\n",
    "        for step in range(total_steps):\n",
    "            time.sleep(0.1)  # Simulate a training step\n",
    "            progress_value = (epoch * total_steps + step + 1) / (3 * total_steps) * 100\n",
    "            progress_window.update_progress(progress_value)\n",
    "        progress_window.update_log(f\"Epoch {epoch+1} completed.\")\n",
    "\n",
    "# Run simulated training in a separate thread\n",
    "threading.Thread(target=simulated_training, daemon=True).start()\n"
   ]
  },
  {
   "cell_type": "code",
   "execution_count": 6,
   "id": "6617acf9",
   "metadata": {},
   "outputs": [],
   "source": [
    "# Start the training process and show the window\n",
    "progress_window.window.mainloop()  # Keep the UI open to show logs and progress"
   ]
  }
 ],
 "metadata": {
  "kernelspec": {
   "display_name": "Python 3",
   "language": "python",
   "name": "python3"
  },
  "language_info": {
   "name": "python",
   "version": "3.10.11"
  }
 },
 "nbformat": 4,
 "nbformat_minor": 5
}
